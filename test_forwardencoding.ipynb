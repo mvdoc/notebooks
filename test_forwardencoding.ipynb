{
 "cells": [
  {
   "cell_type": "code",
   "execution_count": 1,
   "metadata": {},
   "outputs": [],
   "source": [
    "%matplotlib inline"
   ]
  },
  {
   "cell_type": "code",
   "execution_count": 2,
   "metadata": {},
   "outputs": [
    {
     "name": "stderr",
     "output_type": "stream",
     "text": [
      "/opt/conda/envs/neuro27/lib/python2.7/site-packages/statsmodels/compat/pandas.py:56: FutureWarning: The pandas.core.datetools module is deprecated and will be removed in a future version. Please use the pandas.tseries module instead.\n",
      "  from pandas.core import datetools\n"
     ]
    }
   ],
   "source": [
    "import seaborn as sns\n",
    "import matplotlib.pyplot as plt\n",
    "import numpy as np\n",
    "from glob import glob\n",
    "import pandas as pd\n",
    "\n",
    "import nibabel as nib\n",
    "from mvpa2.suite import *\n",
    "from sklearn.linear_model import RidgeCV, Ridge\n",
    "from joblib.parallel import Parallel, delayed\n",
    "from scipy.spatial.distance import cdist, squareform"
   ]
  },
  {
   "cell_type": "code",
   "execution_count": 3,
   "metadata": {},
   "outputs": [
    {
     "name": "stdout",
     "output_type": "stream",
     "text": [
      "WARNING: Detected incorrect (nan) scl_ fields. Resetting to scl_slope=1.0 and scl_inter=0.0\n",
      " * Please note: warnings are printed only once, but underlying problem might occur many times *\n"
     ]
    }
   ],
   "source": [
    "epi_fn = '/idata/DBIC/castello/thesis/outputs/preproc/sub-sid000005/sub-sid000005_ses-hyperface1_task-visualmemory_run-02_bold_space-T1w_preproc_ds_tp.nii.gz'\n",
    "mask_fn = '/idata/DBIC/castello/thesis/outputs/unionmask/sub-sid000005/sub-sid000005_space-T1w_unionbrainmask.nii.gz'\n",
    "ds = fmri_dataset(epi_fn, mask=mask_fn)"
   ]
  },
  {
   "cell_type": "code",
   "execution_count": 3,
   "metadata": {},
   "outputs": [],
   "source": [
    "events_fn = '/idata/DBIC/castello/thesis/inputs/data/sub-sid000005/ses-hyperface1/func/sub-sid000005_ses-hyperface1_task-visualmemory_run-02_events.tsv'"
   ]
  },
  {
   "cell_type": "code",
   "execution_count": 135,
   "metadata": {},
   "outputs": [],
   "source": [
    "def prepare_dataset(epi_fn, mask_fn, events_fn):\n",
    "    ds = fmri_dataset(epi_fn, mask=mask_fn)\n",
    "    ds.sa['chunks'] = [1]\n",
    "    zscore(ds)\n",
    "    \n",
    "    events = pd.read_csv(events_fn, sep='\\t')\n",
    "    events['onset_tr'] = np.round(events.onset, 0).astype(int)\n",
    "    mask_clips = map(lambda x: 'mp4' in x and not x.startswith('catch'), \n",
    "                     events.trial_type)\n",
    "    clip_onset = events[mask_clips].onset_tr.tolist()\n",
    "    start, end = clip_onset[0], clip_onset[-1] + 14  # 4s clip + 10s fixation\n",
    "    ds = ds[start:end]\n",
    "    \n",
    "    # save also clip info\n",
    "    events = events[mask_clips]\n",
    "    clips = [''] * ds.nsamples\n",
    "    for idx, row in events.iterrows():\n",
    "        clips[row.onset_tr - start] = row.trial_type\n",
    "    \n",
    "    cl = clips[0]\n",
    "    for ic in range(1, len(clips)):\n",
    "        if not clips[ic]:\n",
    "            clips[ic] = cl\n",
    "        else:\n",
    "            cl = clips[ic]\n",
    "    ds.sa['clip'] = clips\n",
    "    return ds"
   ]
  },
  {
   "cell_type": "code",
   "execution_count": 136,
   "metadata": {},
   "outputs": [],
   "source": [
    "# load stim labels\n",
    "stimlbl = pd.read_csv('/idata/DBIC/castello/thesis/inputs/stim_labels.tsv', sep='\\t', index_col=0)"
   ]
  },
  {
   "cell_type": "code",
   "execution_count": 137,
   "metadata": {},
   "outputs": [],
   "source": [
    "stimlbl_dummy = pd.get_dummies(stimlbl)"
   ]
  },
  {
   "cell_type": "code",
   "execution_count": 138,
   "metadata": {},
   "outputs": [
    {
     "data": {
      "text/html": [
       "<div>\n",
       "<style scoped>\n",
       "    .dataframe tbody tr th:only-of-type {\n",
       "        vertical-align: middle;\n",
       "    }\n",
       "\n",
       "    .dataframe tbody tr th {\n",
       "        vertical-align: top;\n",
       "    }\n",
       "\n",
       "    .dataframe thead th {\n",
       "        text-align: right;\n",
       "    }\n",
       "</style>\n",
       "<table border=\"1\" class=\"dataframe\">\n",
       "  <thead>\n",
       "    <tr style=\"text-align: right;\">\n",
       "      <th></th>\n",
       "      <th>gender_Female</th>\n",
       "      <th>gender_Male</th>\n",
       "      <th>age_0-10</th>\n",
       "      <th>age_11-20</th>\n",
       "      <th>age_21-30</th>\n",
       "      <th>age_31-40</th>\n",
       "      <th>age_41-50</th>\n",
       "      <th>age_51-60</th>\n",
       "      <th>age_61-70</th>\n",
       "      <th>age_70+</th>\n",
       "      <th>...</th>\n",
       "      <th>emotion_Happiness</th>\n",
       "      <th>emotion_Neutral</th>\n",
       "      <th>emotion_Sadness</th>\n",
       "      <th>emotion_Surprise</th>\n",
       "      <th>npeople_1</th>\n",
       "      <th>npeople_2</th>\n",
       "      <th>npeople_more than 2</th>\n",
       "      <th>headdir_Mostly Center</th>\n",
       "      <th>headdir_Mostly Left</th>\n",
       "      <th>headdir_Mostly Right</th>\n",
       "    </tr>\n",
       "    <tr>\n",
       "      <th>clip</th>\n",
       "      <th></th>\n",
       "      <th></th>\n",
       "      <th></th>\n",
       "      <th></th>\n",
       "      <th></th>\n",
       "      <th></th>\n",
       "      <th></th>\n",
       "      <th></th>\n",
       "      <th></th>\n",
       "      <th></th>\n",
       "      <th></th>\n",
       "      <th></th>\n",
       "      <th></th>\n",
       "      <th></th>\n",
       "      <th></th>\n",
       "      <th></th>\n",
       "      <th></th>\n",
       "      <th></th>\n",
       "      <th></th>\n",
       "      <th></th>\n",
       "      <th></th>\n",
       "    </tr>\n",
       "  </thead>\n",
       "  <tbody>\n",
       "    <tr>\n",
       "      <th>1U9n2Z68-A0_000028.mp4</th>\n",
       "      <td>0</td>\n",
       "      <td>1</td>\n",
       "      <td>0</td>\n",
       "      <td>0</td>\n",
       "      <td>0</td>\n",
       "      <td>1</td>\n",
       "      <td>0</td>\n",
       "      <td>0</td>\n",
       "      <td>0</td>\n",
       "      <td>0</td>\n",
       "      <td>...</td>\n",
       "      <td>0</td>\n",
       "      <td>1</td>\n",
       "      <td>0</td>\n",
       "      <td>0</td>\n",
       "      <td>0</td>\n",
       "      <td>0</td>\n",
       "      <td>1</td>\n",
       "      <td>0</td>\n",
       "      <td>0</td>\n",
       "      <td>1</td>\n",
       "    </tr>\n",
       "    <tr>\n",
       "      <th>1U9n2Z68-A0_000049.mp4</th>\n",
       "      <td>0</td>\n",
       "      <td>1</td>\n",
       "      <td>0</td>\n",
       "      <td>0</td>\n",
       "      <td>1</td>\n",
       "      <td>0</td>\n",
       "      <td>0</td>\n",
       "      <td>0</td>\n",
       "      <td>0</td>\n",
       "      <td>0</td>\n",
       "      <td>...</td>\n",
       "      <td>0</td>\n",
       "      <td>1</td>\n",
       "      <td>0</td>\n",
       "      <td>0</td>\n",
       "      <td>1</td>\n",
       "      <td>0</td>\n",
       "      <td>0</td>\n",
       "      <td>0</td>\n",
       "      <td>0</td>\n",
       "      <td>1</td>\n",
       "    </tr>\n",
       "    <tr>\n",
       "      <th>1U9n2Z68-A0_000110.mp4</th>\n",
       "      <td>0</td>\n",
       "      <td>1</td>\n",
       "      <td>0</td>\n",
       "      <td>0</td>\n",
       "      <td>1</td>\n",
       "      <td>0</td>\n",
       "      <td>0</td>\n",
       "      <td>0</td>\n",
       "      <td>0</td>\n",
       "      <td>0</td>\n",
       "      <td>...</td>\n",
       "      <td>0</td>\n",
       "      <td>1</td>\n",
       "      <td>0</td>\n",
       "      <td>0</td>\n",
       "      <td>1</td>\n",
       "      <td>0</td>\n",
       "      <td>0</td>\n",
       "      <td>0</td>\n",
       "      <td>0</td>\n",
       "      <td>1</td>\n",
       "    </tr>\n",
       "    <tr>\n",
       "      <th>1U9n2Z68-A0_000130.mp4</th>\n",
       "      <td>1</td>\n",
       "      <td>0</td>\n",
       "      <td>0</td>\n",
       "      <td>0</td>\n",
       "      <td>1</td>\n",
       "      <td>0</td>\n",
       "      <td>0</td>\n",
       "      <td>0</td>\n",
       "      <td>0</td>\n",
       "      <td>0</td>\n",
       "      <td>...</td>\n",
       "      <td>0</td>\n",
       "      <td>1</td>\n",
       "      <td>0</td>\n",
       "      <td>0</td>\n",
       "      <td>1</td>\n",
       "      <td>0</td>\n",
       "      <td>0</td>\n",
       "      <td>0</td>\n",
       "      <td>0</td>\n",
       "      <td>1</td>\n",
       "    </tr>\n",
       "    <tr>\n",
       "      <th>1U9n2Z68-A0_000140.mp4</th>\n",
       "      <td>1</td>\n",
       "      <td>0</td>\n",
       "      <td>0</td>\n",
       "      <td>0</td>\n",
       "      <td>1</td>\n",
       "      <td>0</td>\n",
       "      <td>0</td>\n",
       "      <td>0</td>\n",
       "      <td>0</td>\n",
       "      <td>0</td>\n",
       "      <td>...</td>\n",
       "      <td>1</td>\n",
       "      <td>0</td>\n",
       "      <td>0</td>\n",
       "      <td>0</td>\n",
       "      <td>0</td>\n",
       "      <td>0</td>\n",
       "      <td>1</td>\n",
       "      <td>0</td>\n",
       "      <td>0</td>\n",
       "      <td>1</td>\n",
       "    </tr>\n",
       "  </tbody>\n",
       "</table>\n",
       "<p>5 rows × 29 columns</p>\n",
       "</div>"
      ],
      "text/plain": [
       "                        gender_Female  gender_Male  age_0-10  age_11-20  \\\n",
       "clip                                                                      \n",
       "1U9n2Z68-A0_000028.mp4              0            1         0          0   \n",
       "1U9n2Z68-A0_000049.mp4              0            1         0          0   \n",
       "1U9n2Z68-A0_000110.mp4              0            1         0          0   \n",
       "1U9n2Z68-A0_000130.mp4              1            0         0          0   \n",
       "1U9n2Z68-A0_000140.mp4              1            0         0          0   \n",
       "\n",
       "                        age_21-30  age_31-40  age_41-50  age_51-60  age_61-70  \\\n",
       "clip                                                                            \n",
       "1U9n2Z68-A0_000028.mp4          0          1          0          0          0   \n",
       "1U9n2Z68-A0_000049.mp4          1          0          0          0          0   \n",
       "1U9n2Z68-A0_000110.mp4          1          0          0          0          0   \n",
       "1U9n2Z68-A0_000130.mp4          1          0          0          0          0   \n",
       "1U9n2Z68-A0_000140.mp4          1          0          0          0          0   \n",
       "\n",
       "                        age_70+          ...           emotion_Happiness  \\\n",
       "clip                                     ...                               \n",
       "1U9n2Z68-A0_000028.mp4        0          ...                           0   \n",
       "1U9n2Z68-A0_000049.mp4        0          ...                           0   \n",
       "1U9n2Z68-A0_000110.mp4        0          ...                           0   \n",
       "1U9n2Z68-A0_000130.mp4        0          ...                           0   \n",
       "1U9n2Z68-A0_000140.mp4        0          ...                           1   \n",
       "\n",
       "                        emotion_Neutral  emotion_Sadness  emotion_Surprise  \\\n",
       "clip                                                                         \n",
       "1U9n2Z68-A0_000028.mp4                1                0                 0   \n",
       "1U9n2Z68-A0_000049.mp4                1                0                 0   \n",
       "1U9n2Z68-A0_000110.mp4                1                0                 0   \n",
       "1U9n2Z68-A0_000130.mp4                1                0                 0   \n",
       "1U9n2Z68-A0_000140.mp4                0                0                 0   \n",
       "\n",
       "                        npeople_1  npeople_2  npeople_more than 2  \\\n",
       "clip                                                                \n",
       "1U9n2Z68-A0_000028.mp4          0          0                    1   \n",
       "1U9n2Z68-A0_000049.mp4          1          0                    0   \n",
       "1U9n2Z68-A0_000110.mp4          1          0                    0   \n",
       "1U9n2Z68-A0_000130.mp4          1          0                    0   \n",
       "1U9n2Z68-A0_000140.mp4          0          0                    1   \n",
       "\n",
       "                        headdir_Mostly Center  headdir_Mostly Left  \\\n",
       "clip                                                                 \n",
       "1U9n2Z68-A0_000028.mp4                      0                    0   \n",
       "1U9n2Z68-A0_000049.mp4                      0                    0   \n",
       "1U9n2Z68-A0_000110.mp4                      0                    0   \n",
       "1U9n2Z68-A0_000130.mp4                      0                    0   \n",
       "1U9n2Z68-A0_000140.mp4                      0                    0   \n",
       "\n",
       "                        headdir_Mostly Right  \n",
       "clip                                          \n",
       "1U9n2Z68-A0_000028.mp4                     1  \n",
       "1U9n2Z68-A0_000049.mp4                     1  \n",
       "1U9n2Z68-A0_000110.mp4                     1  \n",
       "1U9n2Z68-A0_000130.mp4                     1  \n",
       "1U9n2Z68-A0_000140.mp4                     1  \n",
       "\n",
       "[5 rows x 29 columns]"
      ]
     },
     "execution_count": 138,
     "metadata": {},
     "output_type": "execute_result"
    }
   ],
   "source": [
    "stimlbl_dummy.head()"
   ]
  },
  {
   "cell_type": "code",
   "execution_count": 139,
   "metadata": {},
   "outputs": [],
   "source": [
    "def build_matpred(ds, stimlbl_dummy):\n",
    "    mat = [stimlbl_dummy.loc[lbl].tolist() for lbl in ds.sa.clip]\n",
    "    # the last 10 TRs are fixation, so impose 0\n",
    "    mat = np.vstack(mat)\n",
    "    mat[-10:] = 0.\n",
    "    return mat"
   ]
  },
  {
   "cell_type": "code",
   "execution_count": 140,
   "metadata": {},
   "outputs": [],
   "source": [
    "epi_fns = sorted(glob('/idata/DBIC/castello/thesis/outputs/preproc/sub-sid000005/sub-sid000005_ses-hyperface*_task-visualmemory_run-*_bold_space-T1w_preproc_ds_tp.nii.gz'))\n",
    "event_fns = sorted(glob('/idata/DBIC/castello/thesis/inputs/data/sub-sid000005/ses-hyperface*/func/sub-sid000005_ses-hyperface*_task-visualmemory_run-*_events.tsv'))"
   ]
  },
  {
   "cell_type": "code",
   "execution_count": 141,
   "metadata": {},
   "outputs": [],
   "source": [
    "def load_data(epi, event, i_run):\n",
    "    ds = prepare_dataset(epi, mask_fn, event)\n",
    "    ds.sa['run'] = [i_run]\n",
    "    mat = build_matpred(ds, stimlbl_dummy)\n",
    "    return ds, mat"
   ]
  },
  {
   "cell_type": "code",
   "execution_count": 142,
   "metadata": {},
   "outputs": [],
   "source": [
    "out_data = Parallel(n_jobs=12)(\n",
    "    delayed(load_data)(epi, event, i_run) \n",
    "    for i_run, (epi, event) in enumerate(zip(epi_fns, event_fns), 1))"
   ]
  },
  {
   "cell_type": "code",
   "execution_count": 143,
   "metadata": {},
   "outputs": [],
   "source": [
    "dss, mat = zip(*out_data)\n",
    "dss = vstack(dss, a=0)\n",
    "mats = np.vstack(mat)"
   ]
  },
  {
   "cell_type": "code",
   "execution_count": 15,
   "metadata": {},
   "outputs": [],
   "source": [
    "# dss = []\n",
    "# mats = []\n",
    "# for i, (epi, event) in enumerate(zip(epi_fns, event_fns), 1):\n",
    "#     print(\"{}\".format(i))\n",
    "#     ds = prepare_dataset(epi, mask_fn, event)\n",
    "#     ds.sa['run'] = [i]\n",
    "#     dss.append(ds)\n",
    "#     mats.append(build_matpred(ds, stimlbl_dummy))\n",
    "\n",
    "# dss = vstack(dss)\n",
    "# mats = np.vstack(mats)"
   ]
  },
  {
   "cell_type": "code",
   "execution_count": 144,
   "metadata": {},
   "outputs": [],
   "source": [
    "def delay_mat(mat, delays, tr=1):\n",
    "    trs, nfeatures = mat.shape\n",
    "    ndelays = len(delays)\n",
    "    mat_delay = np.zeros((trs, nfeatures*(ndelays + 1)))\n",
    "    mat_delay[:, :nfeatures] = mat\n",
    "    \n",
    "    for i, delay in enumerate(delays, 2):\n",
    "        start = delay * tr\n",
    "        mat_delay[start:, (i-1)*nfeatures:i*nfeatures] = mat[:trs-start]\n",
    "    return mat_delay"
   ]
  },
  {
   "cell_type": "code",
   "execution_count": 149,
   "metadata": {},
   "outputs": [],
   "source": [
    "delays = [4, 6, 8]\n",
    "mats_d = delay_mat(mats, delays)"
   ]
  },
  {
   "cell_type": "code",
   "execution_count": 152,
   "metadata": {},
   "outputs": [
    {
     "data": {
      "image/png": "[encoded data removed]",
      "text/plain": [
       "<matplotlib.figure.Figure at 0x2b05bb318d50>"
      ]
     },
     "metadata": {},
     "output_type": "display_data"
    }
   ],
   "source": [
    "plt.matshow(mats_d[:10])\n",
    "for delay in delays:\n",
    "    plt.axhline(delay, color='white')"
   ]
  },
  {
   "cell_type": "code",
   "execution_count": 160,
   "metadata": {},
   "outputs": [
    {
     "data": {
      "text/plain": [
       "<matplotlib.image.AxesImage at 0x2b05bb5ae1d0>"
      ]
     },
     "execution_count": 160,
     "metadata": {},
     "output_type": "execute_result"
    },
    {
     "data": {
      "image/png": "[encoded data removed]",
      "text/plain": [
       "<matplotlib.figure.Figure at 0x2b05bb508890>"
      ]
     },
     "metadata": {},
     "output_type": "display_data"
    }
   ],
   "source": [
    "plt.matshow(mats_d[-20:])"
   ]
  },
  {
   "cell_type": "code",
   "execution_count": 23,
   "metadata": {},
   "outputs": [],
   "source": [
    "def _run_block_traintest(mat, ds, alphas=np.logspace(1, 4, 20)):\n",
    "    \"\"\"This function runs ridge regression CV for one block and returns the error curves\"\"\"\n",
    "    # run ridge regression for each voxel\n",
    "    ridge = RidgeCV(alphas=alphas, fit_intercept=False, store_cv_values=True)\n",
    "    nfeatures = ds.shape[1]\n",
    "    \n",
    "    ridge.fit(mat, ds)\n",
    "    return ridge.cv_values_.mean(axis=0)"
   ]
  },
  {
   "cell_type": "code",
   "execution_count": 24,
   "metadata": {},
   "outputs": [],
   "source": [
    "def _run_block_traintest_bestalpha(mat_trte, ds_trte, mat_valid, ds_valid, best_alpha):\n",
    "    \"\"\"This function runs ridge regression with the best alpha and returns the weights and the score\"\"\"\n",
    "    ridge = Ridge(alpha=best_alpha, fit_intercept=False)\n",
    "    ridge.fit(mat_trte, ds_trte)\n",
    "    pred = ridge.predict(mat_valid)\n",
    "    score = 1. - np.diag(cdist(pred.T, ds_valid.T, metric='correlation'))\n",
    "    return ridge.coef_, score"
   ]
  },
  {
   "cell_type": "code",
   "execution_count": 20,
   "metadata": {},
   "outputs": [],
   "source": [
    "alphas = np.logspace(1, 4, 20)"
   ]
  },
  {
   "cell_type": "code",
   "execution_count": 27,
   "metadata": {},
   "outputs": [],
   "source": [
    "def run_one_validation(validation_run, njobs=40):\n",
    "    # split validation from training/testing\n",
    "    idx_valid = np.where(dss.sa.run == validation_run)[0]\n",
    "    idx_trte = np.where(dss.sa.run != validation_run)[0]\n",
    "    assert len(set(idx_valid).intersection(idx_trte)) == 0\n",
    "    \n",
    "    ds_valid = dss[idx_valid]\n",
    "    mat_valid = mats_d[idx_valid]\n",
    "    ds_trte = dss[idx_trte]\n",
    "    mat_trte = mats_d[idx_trte]\n",
    "    \n",
    "    # divide into blocks for parallel processing\n",
    "    nvoxels = ds_trte.nfeatures\n",
    "    blocks = np.array_split(np.arange(nvoxels), njobs)\n",
    "    \n",
    "    # 1. compute optimal alpha across all voxels\n",
    "    print(\"Validation run {0:02d}: computing best alpha across all voxels\".format(validation_run))\n",
    "    out = Parallel(n_jobs=njobs)(\n",
    "        delayed(_run_block_traintest)\n",
    "        (mat_trte, ds_trte.samples[:, idx]) for idx in blocks)\n",
    "    out = np.vstack(out)\n",
    "    \n",
    "    best_alpha = alphas[np.argmin(out.mean(axis=0))]\n",
    "    print(\"Validation run {0:02d}: found best alpha {1}\".format(validation_run, best_alpha))\n",
    "    \n",
    "    # 2. use best_alpha to get score on validation test\n",
    "    out_ba = Parallel(n_jobs=njobs)(\n",
    "        delayed(_run_block_traintest_bestalpha)\n",
    "        (mat_trte, ds_trte.samples[:, idx], \n",
    "         mat_valid, ds_valid.samples[:, idx], \n",
    "         best_alpha) for idx in blocks)\n",
    "    \n",
    "    weights, score = zip(*out_ba)\n",
    "    weights = np.vstack(weights)\n",
    "    score = np.nan_to_num(np.hstack(score))\n",
    "    return weights, score"
   ]
  },
  {
   "cell_type": "code",
   "execution_count": 28,
   "metadata": {},
   "outputs": [
    {
     "name": "stdout",
     "output_type": "stream",
     "text": [
      "Validation run 01: computing best alpha across all voxels\n",
      "Validation run 01: found best alpha 784.759970351\n",
      "Validation run 02: computing best alpha across all voxels\n",
      "Validation run 02: found best alpha 784.759970351\n",
      "Validation run 03: computing best alpha across all voxels\n",
      "Validation run 03: found best alpha 784.759970351\n",
      "Validation run 04: computing best alpha across all voxels\n",
      "Validation run 04: found best alpha 784.759970351\n",
      "Validation run 05: computing best alpha across all voxels\n",
      "Validation run 05: found best alpha 784.759970351\n",
      "Validation run 06: computing best alpha across all voxels\n",
      "Validation run 06: found best alpha 784.759970351\n",
      "Validation run 07: computing best alpha across all voxels\n",
      "Validation run 07: found best alpha 784.759970351\n",
      "Validation run 08: computing best alpha across all voxels\n",
      "Validation run 08: found best alpha 784.759970351\n",
      "Validation run 09: computing best alpha across all voxels\n",
      "Validation run 09: found best alpha 784.759970351\n",
      "Validation run 10: computing best alpha across all voxels\n",
      "Validation run 10: found best alpha 784.759970351\n",
      "Validation run 11: computing best alpha across all voxels\n",
      "Validation run 11: found best alpha 784.759970351\n",
      "Validation run 12: computing best alpha across all voxels\n",
      "Validation run 12: found best alpha 784.759970351\n"
     ]
    }
   ],
   "source": [
    "res_vrun = []\n",
    "for vrun in range(1, 13):\n",
    "    res_vrun.append(run_one_validation(vrun))"
   ]
  },
  {
   "cell_type": "code",
   "execution_count": 38,
   "metadata": {},
   "outputs": [],
   "source": [
    "weights, score = zip(*res_vrun)\n",
    "weights = np.dstack(weights)\n",
    "score = np.vstack(score)"
   ]
  },
  {
   "cell_type": "code",
   "execution_count": 32,
   "metadata": {},
   "outputs": [],
   "source": [
    "score_avg = np.mean(score, axis=0)"
   ]
  },
  {
   "cell_type": "code",
   "execution_count": 41,
   "metadata": {},
   "outputs": [],
   "source": [
    "np.savez('/idata/DBIC/castello/thesis/outputs/encoding/sub-sid000005/vrun_all.npz',\n",
    "        weights=weights, score=score)"
   ]
  },
  {
   "cell_type": "code",
   "execution_count": 40,
   "metadata": {},
   "outputs": [
    {
     "data": {
      "text/plain": [
       "<matplotlib.axes._subplots.AxesSubplot at 0x2b93d73bf350>"
      ]
     },
     "execution_count": 40,
     "metadata": {},
     "output_type": "execute_result"
    },
    {
     "data": {
      "image/png": "[encoded data removed]",
      "text/plain": [
       "<matplotlib.figure.Figure at 0x2b93d738a590>"
      ]
     },
     "metadata": {},
     "output_type": "display_data"
    }
   ],
   "source": [
    "sns.distplot(score_avg)"
   ]
  },
  {
   "cell_type": "code",
   "execution_count": 44,
   "metadata": {},
   "outputs": [],
   "source": [
    "score_map = map2nifti(\n",
    "    Dataset(score_avg[None, :], fa=dss.fa, a=dss.a))"
   ]
  },
  {
   "cell_type": "code",
   "execution_count": 45,
   "metadata": {},
   "outputs": [],
   "source": [
    "score_map.to_filename('/idata/DBIC/castello/thesis/outputs/encoding/sub-sid000005/avgscores_new.nii.gz')"
   ]
  },
  {
   "cell_type": "markdown",
   "metadata": {},
   "source": [
    "## Let's check the weights"
   ]
  },
  {
   "cell_type": "code",
   "execution_count": 3,
   "metadata": {},
   "outputs": [],
   "source": [
    "res = np.load('/idata/DBIC/castello/thesis/outputs/encoding/sub-sid000005/vrun_all.npz')"
   ]
  },
  {
   "cell_type": "code",
   "execution_count": 4,
   "metadata": {},
   "outputs": [],
   "source": [
    "weights = res['weights']\n",
    "score = res['score']"
   ]
  },
  {
   "cell_type": "code",
   "execution_count": 8,
   "metadata": {},
   "outputs": [],
   "source": [
    "nfeatures = stimlbl_dummy.shape[1]\n",
    "nvoxels = weights.shape[0]"
   ]
  },
  {
   "cell_type": "code",
   "execution_count": 9,
   "metadata": {},
   "outputs": [],
   "source": [
    "# avg across folds\n",
    "weights_avg = weights.mean(axis=-1)\n",
    "# avg across lags\n",
    "weights_avg = weights.reshape((nvoxels, nfeatures, -1)).mean(axis=-1)"
   ]
  },
  {
   "cell_type": "code",
   "execution_count": 10,
   "metadata": {},
   "outputs": [],
   "source": [
    "feature_names = stimlbl_dummy.columns"
   ]
  },
  {
   "cell_type": "code",
   "execution_count": 11,
   "metadata": {},
   "outputs": [
    {
     "data": {
      "text/plain": [
       "(117609, 29)"
      ]
     },
     "execution_count": 11,
     "metadata": {},
     "output_type": "execute_result"
    }
   ],
   "source": [
    "weights_avg.shape"
   ]
  },
  {
   "cell_type": "code",
   "execution_count": 56,
   "metadata": {},
   "outputs": [],
   "source": [
    "# let's just save individual weights for now\n",
    "for i, name in enumerate(feature_names):\n",
    "    tmp = map2nifti(Dataset(weights_avg[:, i][None, :], fa=dss.fa, a=dss.a))\n",
    "    tmp.to_filename('/idata/DBIC/castello/thesis/outputs/encoding/sub-sid000005/weights_{}.nii.gz'.format(name))"
   ]
  },
  {
   "cell_type": "code",
   "execution_count": 12,
   "metadata": {},
   "outputs": [
    {
     "data": {
      "text/plain": [
       "Index([u'gender_Female', u'gender_Male', u'age_0-10', u'age_11-20',\n",
       "       u'age_21-30', u'age_31-40', u'age_41-50', u'age_51-60', u'age_61-70',\n",
       "       u'age_70+', u'ethnicity_Asian', u'ethnicity_Black or African American',\n",
       "       u'ethnicity_Hispanic or Latino', u'ethnicity_Indian',\n",
       "       u'ethnicity_Other', u'ethnicity_White', u'emotion_Anger',\n",
       "       u'emotion_Disgust', u'emotion_Fear', u'emotion_Happiness',\n",
       "       u'emotion_Neutral', u'emotion_Sadness', u'emotion_Surprise',\n",
       "       u'npeople_1', u'npeople_2', u'npeople_more than 2',\n",
       "       u'headdir_Mostly Center', u'headdir_Mostly Left',\n",
       "       u'headdir_Mostly Right'],\n",
       "      dtype='object')"
      ]
     },
     "execution_count": 12,
     "metadata": {},
     "output_type": "execute_result"
    }
   ],
   "source": [
    "feature_names"
   ]
  },
  {
   "cell_type": "code",
   "execution_count": 17,
   "metadata": {},
   "outputs": [],
   "source": [
    "# for each voxel, let's binarize the max weight, and add an arbitrary threshold\n",
    "thr = np.percentile(weights_avg[:, :2].flatten(), 95)\n",
    "amax = np.argmax(weights_avg[:, :2], axis=1)\n",
    "max_weight = np.array([w[a] for w, a in zip(weights_avg[:, :2], amax)])\n",
    "gender = (amax + 1) * (max_weight >= thr)"
   ]
  },
  {
   "cell_type": "code",
   "execution_count": 21,
   "metadata": {},
   "outputs": [
    {
     "name": "stdout",
     "output_type": "stream",
     "text": [
      "WARNING: Detected incorrect (nan) scl_ fields. Resetting to scl_slope=1.0 and scl_inter=0.0\n",
      " * Please note: warnings are printed only once, but underlying problem might occur many times *\n"
     ]
    }
   ],
   "source": [
    "epi_fn = '/idata/DBIC/castello/thesis/outputs/preproc/sub-sid000005/sub-sid000005_ses-hyperface1_task-visualmemory_run-02_bold_space-T1w_preproc_ds_tp.nii.gz'\n",
    "mask_fn = '/idata/DBIC/castello/thesis/outputs/unionmask/sub-sid000005/sub-sid000005_space-T1w_unionbrainmask.nii.gz'\n",
    "ds = fmri_dataset(epi_fn, mask=mask_fn)"
   ]
  },
  {
   "cell_type": "code",
   "execution_count": 25,
   "metadata": {},
   "outputs": [],
   "source": [
    "m = map2nifti(Dataset(gender[None, :], fa=ds.fa, a=ds.a))"
   ]
  },
  {
   "cell_type": "code",
   "execution_count": 26,
   "metadata": {},
   "outputs": [],
   "source": [
    "m.to_filename('/idata/DBIC/castello/thesis/outputs/encoding/sub-sid000005/genderweights.nii.gz')"
   ]
  },
  {
   "cell_type": "markdown",
   "metadata": {},
   "source": [
    "## Another test -- let's take the max weight for each voxel across features"
   ]
  },
  {
   "cell_type": "code",
   "execution_count": 29,
   "metadata": {},
   "outputs": [],
   "source": [
    "feature_cat = map(lambda x: x.split('_')[0], feature_names)"
   ]
  },
  {
   "cell_type": "code",
   "execution_count": 40,
   "metadata": {},
   "outputs": [],
   "source": [
    "unq_feature_cat = list(set(feature_cat))\n",
    "map_feature_cat = {f: i for i, f in enumerate(unq_feature_cat, 1)}"
   ]
  },
  {
   "cell_type": "code",
   "execution_count": 35,
   "metadata": {},
   "outputs": [],
   "source": [
    "max_weight = np.argmax(weights_avg, axis=1)"
   ]
  },
  {
   "cell_type": "code",
   "execution_count": 43,
   "metadata": {},
   "outputs": [],
   "source": [
    "bin_max_weight = np.array([map_feature_cat[feature_cat[v]] for v in max_weight])"
   ]
  },
  {
   "cell_type": "code",
   "execution_count": 123,
   "metadata": {},
   "outputs": [],
   "source": [
    "m = map2nifti(Dataset(bin_max_weight[None, :], fa=ds.fa, a=ds.a))\n",
    "m.to_filename('/idata/DBIC/castello/thesis/outputs/encoding/sub-sid000005/max_weights_cat.nii.gz')"
   ]
  },
  {
   "cell_type": "code",
   "execution_count": 46,
   "metadata": {},
   "outputs": [
    {
     "data": {
      "text/plain": [
       "<matplotlib.axes._subplots.AxesSubplot at 0x2b05b8f27e50>"
      ]
     },
     "execution_count": 46,
     "metadata": {},
     "output_type": "execute_result"
    },
    {
     "data": {
      "image/png": "[encoded data removed]",
      "text/plain": [
       "<matplotlib.figure.Figure at 0x2b05b924d3d0>"
      ]
     },
     "metadata": {},
     "output_type": "display_data"
    }
   ],
   "source": [
    "sns.distplot(bin_max_weight, kde=False)"
   ]
  },
  {
   "cell_type": "code",
   "execution_count": 124,
   "metadata": {},
   "outputs": [
    {
     "data": {
      "text/plain": [
       "['emotion', 'npeople', 'gender', 'age', 'headdir', 'ethnicity']"
      ]
     },
     "execution_count": 124,
     "metadata": {},
     "output_type": "execute_result"
    }
   ],
   "source": [
    "unq_feature_cat"
   ]
  },
  {
   "cell_type": "markdown",
   "metadata": {},
   "source": [
    "## Significance\n",
    "\n",
    "1. Bootstrap\n",
    "2. Get SD and compute z-value\n",
    "3. Compute p-value based on t-distribution\n",
    "4. FDR correct"
   ]
  },
  {
   "cell_type": "code",
   "execution_count": 110,
   "metadata": {},
   "outputs": [],
   "source": [
    "rng = np.random.RandomState(42)"
   ]
  },
  {
   "cell_type": "code",
   "execution_count": 73,
   "metadata": {},
   "outputs": [],
   "source": [
    "# convert to fisher z-scored\n",
    "score_z = np.arctanh(score)"
   ]
  },
  {
   "cell_type": "code",
   "execution_count": 111,
   "metadata": {},
   "outputs": [],
   "source": [
    "nbootstraps = 10000\n",
    "idxs = rng.choice(np.arange(12), size=(nbootstraps, 12), )"
   ]
  },
  {
   "cell_type": "code",
   "execution_count": 112,
   "metadata": {},
   "outputs": [],
   "source": [
    "# compute z-values using bootstrapped SD\n",
    "bs_sample = np.array([score_z[idx].mean(axis=0) for idx in idxs])\n",
    "bs_sample_std = bs_sample.std(axis=0)\n",
    "\n",
    "score_z_avg = score_z.mean(axis=0)\n",
    "score_z_t = np.nan_to_num(score_z_avg/bs_sample_std)"
   ]
  },
  {
   "cell_type": "code",
   "execution_count": 115,
   "metadata": {},
   "outputs": [],
   "source": [
    "# compute p-vals and do FDR correction them\n",
    "from scipy import stats\n",
    "pval = stats.distributions.t.sf(score_z_t, 11)\n",
    "\n",
    "from mne.stats import fdr_correction\n",
    "h, pval_c = fdr_correction(pval)"
   ]
  },
  {
   "cell_type": "code",
   "execution_count": 118,
   "metadata": {},
   "outputs": [],
   "source": [
    "m = map2nifti(Dataset(-np.log10(pval_c)[None, :], fa=ds.fa, a=ds.a))\n",
    "m.to_filename('/idata/DBIC/castello/thesis/outputs/encoding/sub-sid000005/pval_corrected.nii.gz')"
   ]
  },
  {
   "cell_type": "code",
   "execution_count": 125,
   "metadata": {},
   "outputs": [
    {
     "data": {
      "text/plain": [
       "1.3010299956639813"
      ]
     },
     "execution_count": 125,
     "metadata": {},
     "output_type": "execute_result"
    }
   ],
   "source": [
    "-np.log10(0.05)"
   ]
  },
  {
   "cell_type": "code",
   "execution_count": 120,
   "metadata": {},
   "outputs": [
    {
     "data": {
      "text/plain": [
       "-10.617711247780651"
      ]
     },
     "execution_count": 120,
     "metadata": {},
     "output_type": "execute_result"
    }
   ],
   "source": [
    "score_z_t.min()"
   ]
  },
  {
   "cell_type": "code",
   "execution_count": 121,
   "metadata": {},
   "outputs": [
    {
     "data": {
      "text/plain": [
       "0.029885868628745624"
      ]
     },
     "execution_count": 121,
     "metadata": {},
     "output_type": "execute_result"
    }
   ],
   "source": [
    "score_z_avg[0]"
   ]
  },
  {
   "cell_type": "code",
   "execution_count": 163,
   "metadata": {},
   "outputs": [
    {
     "data": {
      "text/plain": [
       "<matplotlib.axes._subplots.AxesSubplot at 0x2b05bb508410>"
      ]
     },
     "execution_count": 163,
     "metadata": {},
     "output_type": "execute_result"
    },
    {
     "data": {
      "image/png": "[encoded data removed]",
      "text/plain": [
       "<matplotlib.figure.Figure at 0x2b05bb5cde90>"
      ]
     },
     "metadata": {},
     "output_type": "display_data"
    }
   ],
   "source": [
    "sns.distplot(score_z_t)"
   ]
  },
  {
   "cell_type": "code",
   "execution_count": 81,
   "metadata": {},
   "outputs": [
    {
     "data": {
      "text/plain": [
       "<matplotlib.axes._subplots.AxesSubplot at 0x2b05b7f75b10>"
      ]
     },
     "execution_count": 81,
     "metadata": {},
     "output_type": "execute_result"
    },
    {
     "data": {
      "image/png": "[encoded data removed]",
      "text/plain": [
       "<matplotlib.figure.Figure at 0x2b05b7c8a690>"
      ]
     },
     "metadata": {},
     "output_type": "display_data"
    }
   ],
   "source": [
    "sns.distplot(bs_sample[:, 0])"
   ]
  },
  {
   "cell_type": "code",
   "execution_count": 71,
   "metadata": {},
   "outputs": [
    {
     "data": {
      "text/plain": [
       "(100, 117609)"
      ]
     },
     "execution_count": 71,
     "metadata": {},
     "output_type": "execute_result"
    }
   ],
   "source": [
    "bs_sample.shape"
   ]
  },
  {
   "cell_type": "code",
   "execution_count": 65,
   "metadata": {},
   "outputs": [
    {
     "data": {
      "text/plain": [
       "(12, 12)"
      ]
     },
     "execution_count": 65,
     "metadata": {},
     "output_type": "execute_result"
    }
   ],
   "source": [
    "score[:, idx].shape"
   ]
  },
  {
   "cell_type": "code",
   "execution_count": 63,
   "metadata": {},
   "outputs": [
    {
     "data": {
      "text/plain": [
       "(100, 12)"
      ]
     },
     "execution_count": 63,
     "metadata": {},
     "output_type": "execute_result"
    }
   ],
   "source": [
    "sns.dis"
   ]
  },
  {
   "cell_type": "code",
   "execution_count": 51,
   "metadata": {},
   "outputs": [
    {
     "data": {
      "text/plain": [
       "['emotion', 'npeople', 'gender', 'age', 'headdir', 'ethnicity']"
      ]
     },
     "execution_count": 51,
     "metadata": {},
     "output_type": "execute_result"
    }
   ],
   "source": [
    "unq_feature_cat"
   ]
  },
  {
   "cell_type": "code",
   "execution_count": 50,
   "metadata": {},
   "outputs": [
    {
     "data": {
      "text/plain": [
       "['gender',\n",
       " 'gender',\n",
       " 'age',\n",
       " 'age',\n",
       " 'age',\n",
       " 'age',\n",
       " 'age',\n",
       " 'age',\n",
       " 'age',\n",
       " 'age',\n",
       " 'ethnicity',\n",
       " 'ethnicity',\n",
       " 'ethnicity',\n",
       " 'ethnicity',\n",
       " 'ethnicity',\n",
       " 'ethnicity',\n",
       " 'emotion',\n",
       " 'emotion',\n",
       " 'emotion',\n",
       " 'emotion',\n",
       " 'emotion',\n",
       " 'emotion',\n",
       " 'emotion',\n",
       " 'npeople',\n",
       " 'npeople',\n",
       " 'npeople',\n",
       " 'headdir',\n",
       " 'headdir',\n",
       " 'headdir']"
      ]
     },
     "execution_count": 50,
     "metadata": {},
     "output_type": "execute_result"
    }
   ],
   "source": [
    "feature_cat"
   ]
  },
  {
   "cell_type": "code",
   "execution_count": 49,
   "metadata": {},
   "outputs": [
    {
     "data": {
      "text/plain": [
       "'age'"
      ]
     },
     "execution_count": 49,
     "metadata": {},
     "output_type": "execute_result"
    }
   ],
   "source": [
    "unq_feature_cat[3]"
   ]
  },
  {
   "cell_type": "code",
   "execution_count": 27,
   "metadata": {},
   "outputs": [
    {
     "data": {
      "text/plain": [
       "(117609, 29)"
      ]
     },
     "execution_count": 27,
     "metadata": {},
     "output_type": "execute_result"
    }
   ],
   "source": [
    "weights_avg.shape"
   ]
  },
  {
   "cell_type": "markdown",
   "metadata": {},
   "source": [
    "- Step 1: find alpha across all voxels. Divide into train/test, run across all voxels, then average the error curves across voxels\n",
    "- Step 2: once found, fit it again with that alpha, and then predict on the validation"
   ]
  },
  {
   "cell_type": "code",
   "execution_count": 215,
   "metadata": {},
   "outputs": [],
   "source": [
    "# def _run_block_traintest(mat, ds):\n",
    "#     # run ridge regression for each voxel\n",
    "#     alphas = np.logspace(1, 3, 20)\n",
    "#     ridge = RidgeCV(alphas=alphas, fit_intercept=False, store_cv_values=True)\n",
    "#     nfeatures = ds.shape[1]\n",
    "    \n",
    "#     alphas_cv = []\n",
    "#     for i in range(nfeatures):\n",
    "#         ridge.fit(mat, ds[:, i])\n",
    "#         alphas_cv.append(ridge.cv_values_.mean(axis=0)[:, None])\n",
    "#     return np.hstack(alphas_cv)"
   ]
  },
  {
   "cell_type": "code",
   "execution_count": 217,
   "metadata": {},
   "outputs": [],
   "source": [
    "nvoxels = ds_trte.nfeatures\n",
    "nblocks = 40\n",
    "blocks = np.array_split(np.arange(nvoxels), nblocks)"
   ]
  },
  {
   "cell_type": "code",
   "execution_count": 218,
   "metadata": {},
   "outputs": [],
   "source": [
    "out = Parallel(n_jobs=nblocks)(\n",
    "    delayed(_run_block_traintest)\n",
    "    (mat_trte, ds_trte.samples[:, idx]) for idx in blocks)\n",
    "out = np.vstack(out)"
   ]
  },
  {
   "cell_type": "code",
   "execution_count": 219,
   "metadata": {},
   "outputs": [
    {
     "data": {
      "image/png": "[encoded data removed]",
      "text/plain": [
       "<matplotlib.figure.Figure at 0x2ad95d06bd10>"
      ]
     },
     "metadata": {},
     "output_type": "display_data"
    }
   ],
   "source": [
    "alphas = np.logspace(1, 4, 20)\n",
    "plt.plot(alphas, out.mean(axis=0));"
   ]
  },
  {
   "cell_type": "code",
   "execution_count": 220,
   "metadata": {
    "scrolled": true
   },
   "outputs": [
    {
     "name": "stdout",
     "output_type": "stream",
     "text": [
      "784.759970351\n"
     ]
    }
   ],
   "source": [
    "best_alpha = alphas[np.argmin(out.mean(axis=0))]\n",
    "print(best_alpha)"
   ]
  },
  {
   "cell_type": "code",
   "execution_count": 222,
   "metadata": {
    "scrolled": true
   },
   "outputs": [],
   "source": [
    "out_ba = Parallel(n_jobs=nblocks)(\n",
    "    delayed(_run_block_traintest_bestalpha)\n",
    "    (mat_trte, ds_trte.samples[:, idx], \n",
    "     mat_valid, ds_valid.samples[:, idx], \n",
    "     best_alpha) for idx in blocks)"
   ]
  },
  {
   "cell_type": "code",
   "execution_count": 223,
   "metadata": {},
   "outputs": [],
   "source": [
    "weights, score = zip(*out_ba)"
   ]
  },
  {
   "cell_type": "code",
   "execution_count": 224,
   "metadata": {},
   "outputs": [],
   "source": [
    "weights = np.vstack(weights)\n",
    "score = np.nan_to_num(np.hstack(score))"
   ]
  },
  {
   "cell_type": "code",
   "execution_count": 225,
   "metadata": {},
   "outputs": [
    {
     "data": {
      "text/plain": [
       "<matplotlib.axes._subplots.AxesSubplot at 0x2ad95d1cf5d0>"
      ]
     },
     "execution_count": 225,
     "metadata": {},
     "output_type": "execute_result"
    },
    {
     "data": {
      "image/png": "[encoded data removed]",
      "text/plain": [
       "<matplotlib.figure.Figure at 0x2ad95d1cf750>"
      ]
     },
     "metadata": {},
     "output_type": "display_data"
    }
   ],
   "source": [
    "sns.distplot(score)"
   ]
  },
  {
   "cell_type": "code",
   "execution_count": 164,
   "metadata": {},
   "outputs": [
    {
     "data": {
      "text/plain": [
       "2960"
      ]
     },
     "execution_count": 164,
     "metadata": {},
     "output_type": "execute_result"
    }
   ],
   "source": [
    "dss.nsamples"
   ]
  },
  {
   "cell_type": "code",
   "execution_count": 168,
   "metadata": {
    "scrolled": true
   },
   "outputs": [
    {
     "data": {
      "text/plain": [
       "2713"
      ]
     },
     "execution_count": 168,
     "metadata": {},
     "output_type": "execute_result"
    }
   ],
   "source": [
    "np.sum(dss.sa.run != 1)"
   ]
  },
  {
   "cell_type": "code",
   "execution_count": null,
   "metadata": {},
   "outputs": [],
   "source": []
  }
 ],
 "metadata": {
  "kernelspec": {
   "display_name": "Python 2",
   "language": "python",
   "name": "python2"
  },
  "language_info": {
   "codemirror_mode": {
    "name": "ipython",
    "version": 2
   },
   "file_extension": ".py",
   "mimetype": "text/x-python",
   "name": "python",
   "nbconvert_exporter": "python",
   "pygments_lexer": "ipython2",
   "version": "2.7.14"
  }
 },
 "nbformat": 4,
 "nbformat_minor": 2
}
