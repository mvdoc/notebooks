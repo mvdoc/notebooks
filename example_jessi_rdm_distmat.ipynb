{
 "cells": [
  {
   "cell_type": "code",
   "execution_count": 18,
   "metadata": {
    "collapsed": true
   },
   "outputs": [],
   "source": [
    "# Here we load a bunch of stuff\n",
    "import sys\n",
    "p = ['../', '/home/contematto/github/seaborn/']\n",
    "for pp in p:\n",
    "    if pp not in sys.path:\n",
    "        sys.path.insert(1, pp)\n",
    "import expdir\n",
    "from mvpa2.suite import *\n",
    "fns = expdir.expdir()\n",
    "from scipy.spatial import distance as dist\n",
    "from scipy.stats import scoreatpercentile\n",
    "from matplotlib import cm\n",
    "import seaborn as sns\n",
    "from os.path import join as pjoin"
   ]
  },
  {
   "cell_type": "code",
   "execution_count": 19,
   "metadata": {
    "collapsed": true
   },
   "outputs": [],
   "source": [
    "%matplotlib inline"
   ]
  },
  {
   "cell_type": "markdown",
   "metadata": {},
   "source": [
    "Start here"
   ]
  },
  {
   "cell_type": "code",
   "execution_count": 4,
   "metadata": {
    "collapsed": true
   },
   "outputs": [],
   "source": [
    "def load_dsm(subnr):\n",
    "    fn = pjoin(fns.mvpadir(subnr), 'roi_rsa_jimroi_5r_fisher_nooverlap/dsm_condition.hdf5')\n",
    "    ds = h5load(fn)\n",
    "    return ds"
   ]
  },
  {
   "cell_type": "code",
   "execution_count": 5,
   "metadata": {
    "collapsed": true
   },
   "outputs": [],
   "source": [
    "def make_ds_distance(ds):\n",
    "    ds_ = ds.samples        \n",
    "    ds_dist = squareform(pdist(ds_, metric='correlation'))\n",
    "    return Dataset(ds_dist, sa=ds.sa, fa={'roi': ds.sa.targets})"
   ]
  },
  {
   "cell_type": "code",
   "execution_count": 7,
   "metadata": {
    "collapsed": false
   },
   "outputs": [],
   "source": [
    "# this contains the first level\n",
    "roi_rdm = [load_dsm(i) for i in range(1, 34)]\n",
    "# this contains the second level for each subject\n",
    "roi_dist = [make_ds_distance(ds) for ds in roi_rdm]"
   ]
  },
  {
   "cell_type": "markdown",
   "metadata": {},
   "source": [
    "`roi_rdm` is a list containing PyMVPA datasets of RDMs within each ROI; each sample (row) is one ROI, and each feature (column) is a pairwise distance. We have 64 features because the original RDM was 8x8."
   ]
  },
  {
   "cell_type": "code",
   "execution_count": 12,
   "metadata": {
    "collapsed": false
   },
   "outputs": [
    {
     "name": "stdout",
     "output_type": "stream",
     "text": [
      "<Dataset: 30x64@float64, <sa: centers,targets>>\n",
      "['IFG1 - L' 'EV2 - L' 'EV1 - R' 'mFus - R' 'mFus - L' 'EV1 - L' 'EV2 - R'\n",
      " 'TPJ - L' 'mMTG - L' 'vPreCun - L' 'pMTG - L' 'pMTG - R' 'vPreCun - R'\n",
      " 'mMTG - R' 'TPJ - R' 'pFus - L' 'OccFus - R' 'MPFC - L' 'aFus - R'\n",
      " 'MPFC - R' 'OccFus - L' 'pFus - R' 'mPreCun - R' 'dPreCun - L' 'aMTG - L'\n",
      " 'IFG2 - R' 'aMTG - R' 'IFG2 - L' 'dPreCun - R' 'mPreCun - L']\n"
     ]
    }
   ],
   "source": [
    "print(roi_rdm[0])\n",
    "print(roi_rdm[0].sa.targets)"
   ]
  },
  {
   "cell_type": "markdown",
   "metadata": {},
   "source": [
    "`roi_dist` contains the distance matrix across rois, computed using correlation."
   ]
  },
  {
   "cell_type": "code",
   "execution_count": 14,
   "metadata": {
    "collapsed": false
   },
   "outputs": [
    {
     "name": "stdout",
     "output_type": "stream",
     "text": [
      "<Dataset: 30x30@float64, <sa: centers,targets>, <fa: roi>>\n"
     ]
    }
   ],
   "source": [
    "print(roi_dist[0])"
   ]
  },
  {
   "cell_type": "markdown",
   "metadata": {},
   "source": [
    "We can just average the matrices and look at it"
   ]
  },
  {
   "cell_type": "code",
   "execution_count": 15,
   "metadata": {
    "collapsed": true
   },
   "outputs": [],
   "source": [
    "avg_dist = np.dstack(roi_dist).mean(axis=-1)"
   ]
  },
  {
   "cell_type": "code",
   "execution_count": 20,
   "metadata": {
    "collapsed": false
   },
   "outputs": [
    {
     "data": {
      "text/plain": [
       "<matplotlib.axes._subplots.AxesSubplot at 0x7f8b981d1410>"
      ]
     },
     "execution_count": 20,
     "metadata": {},
     "output_type": "execute_result"
    },
    {
     "data": {
      "image/png": "[encoded data removed]",
      "text/plain": [
       "<matplotlib.figure.Figure at 0x7f8be2bf1950>"
      ]
     },
     "metadata": {},
     "output_type": "display_data"
    }
   ],
   "source": [
    "sns.heatmap(avg_dist, square=True)"
   ]
  }
 ],
 "metadata": {
  "kernelspec": {
   "display_name": "Python 2",
   "language": "python",
   "name": "python2"
  },
  "language_info": {
   "codemirror_mode": {
    "name": "ipython",
    "version": 2
   },
   "file_extension": ".py",
   "mimetype": "text/x-python",
   "name": "python",
   "nbconvert_exporter": "python",
   "pygments_lexer": "ipython2",
   "version": "2.7.9"
  }
 },
 "nbformat": 4,
 "nbformat_minor": 2
}
