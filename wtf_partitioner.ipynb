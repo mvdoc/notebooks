{
 "cells": [
  {
   "cell_type": "code",
   "execution_count": 1,
   "metadata": {},
   "outputs": [
    {
     "name": "stderr",
     "output_type": "stream",
     "text": [
      "/opt/conda/envs/neuro27/lib/python2.7/site-packages/h5py/__init__.py:36: FutureWarning: Conversion of the second argument of issubdtype from `float` to `np.floating` is deprecated. In future, it will be treated as `np.float64 == np.dtype(float).type`.\n",
      "  from ._conv import register_converters as _register_converters\n",
      "/opt/conda/envs/neuro27/lib/python2.7/site-packages/statsmodels/compat/pandas.py:56: FutureWarning: The pandas.core.datetools module is deprecated and will be removed in a future version. Please use the pandas.tseries module instead.\n",
      "  from pandas.core import datetools\n"
     ]
    }
   ],
   "source": [
    "from mvpa2.suite import *\n",
    "import numpy as np"
   ]
  },
  {
   "cell_type": "code",
   "execution_count": 11,
   "metadata": {},
   "outputs": [],
   "source": [
    "nvoxels = 5000\n",
    "nsamples = 20\n",
    "rand_data = np.random.randn(nsamples, nvoxels)\n",
    "\n",
    "data = np.zeros((nsamples * 2, nvoxels))\n",
    "data[:nsamples] = rand_data\n",
    "data[nsamples:] = rand_data\n",
    "\n",
    "ds = Dataset(data, \n",
    "            sa={'familiarity': [0]*20 + [1] * 20,\n",
    "                'identity': np.repeat(np.arange(8), 5),\n",
    "                'orientation': np.tile(np.arange(5), 8)})\n",
    "ds.sa['targets'] = ds.sa.familiarity"
   ]
  },
  {
   "cell_type": "code",
   "execution_count": 13,
   "metadata": {},
   "outputs": [
    {
     "name": "stdout",
     "output_type": "stream",
     "text": [
      "Dataset: 40x5000@float64, <sa: familiarity,identity,orientation,targets>\n",
      "stats: mean=0.00192592 std=1.00266 var=1.00532 min=-4.51238 max=4.15349\n",
      "\n",
      "Counts of targets in each chunk:\n",
      "  identity\\targets  0   1\n",
      "                   --- ---\n",
      "         0          5   0\n",
      "         1          5   0\n",
      "         2          5   0\n",
      "         3          5   0\n",
      "         4          0   5\n",
      "         5          0   5\n",
      "         6          0   5\n",
      "         7          0   5\n",
      "\n",
      "Summary for targets across identity\n",
      "  targets mean std min max #identity\n",
      "    0      2.5 2.5  0   5      4\n",
      "    1      2.5 2.5  0   5      4\n",
      "\n",
      "Summary for identity across targets\n",
      "  identity mean std min max #targets\n",
      "     0      2.5 2.5  0   5      1\n",
      "     1      2.5 2.5  0   5      1\n",
      "     2      2.5 2.5  0   5      1\n",
      "     3      2.5 2.5  0   5      1\n",
      "     4      2.5 2.5  0   5      1\n",
      "     5      2.5 2.5  0   5      1\n",
      "     6      2.5 2.5  0   5      1\n",
      "     7      2.5 2.5  0   5      1\n",
      "Sequence statistics for 40 entries from set [0, 1]\n",
      "Counter-balance table for orders up to 2:\n",
      "Targets/Order O1     |  O2     |\n",
      "      0:      19  1  |  18  2  |\n",
      "      1:       0 19  |   0 18  |\n",
      "Correlations: min=-1 max=0.9 mean=-0.026 sum(abs)=19\n"
     ]
    }
   ],
   "source": [
    "print(ds.summary(chunks_attr='identity'))"
   ]
  },
  {
   "cell_type": "code",
   "execution_count": 14,
   "metadata": {},
   "outputs": [],
   "source": [
    "clf = GNB()\n",
    "cv = CrossValidation(\n",
    "    clf, \n",
    "    FactorialPartitioner(NFoldPartitioner(attr='identity'), attr='familiarity'), \n",
    "    enable_ca=['stats'])"
   ]
  },
  {
   "cell_type": "code",
   "execution_count": 15,
   "metadata": {},
   "outputs": [
    {
     "name": "stdout",
     "output_type": "stream",
     "text": [
      "----------.\n",
      "predictions\\targets   0     1\n",
      "            `------  ----  ----  P'  N' FP FN PPV NPV  TPR  SPC FDR  MCC   F1   AUC\n",
      "         0            20    80  100  60 80 60 0.2  0  0.25   0  0.8 -0.77 0.22  0.1\n",
      "         1            60    0    60 100 60 80  0  0.2   0  0.25  1  -0.77   0  0.15\n",
      "Per target:          ----  ----\n",
      "         P            80    80\n",
      "         N            80    80\n",
      "         TP           20    0\n",
      "         TN           0     20\n",
      "Summary \\ Means:     ----  ----  80  80 70 70 0.1 0.1 0.12 0.12 0.9 -0.77 0.11 0.12\n",
      "       CHI^2         100  p=1.6e-21\n",
      "        ACC          0.12\n",
      "        ACC%         12.5\n",
      "     # of sets        16   ACC(i) = 0.12+0*i p=1 r=0 r^2=0\n",
      "\n"
     ]
    }
   ],
   "source": [
    "cv(ds)\n",
    "print(cv.ca.stats)"
   ]
  },
  {
   "cell_type": "markdown",
   "metadata": {},
   "source": [
    "Compare with completely random"
   ]
  },
  {
   "cell_type": "code",
   "execution_count": 16,
   "metadata": {},
   "outputs": [],
   "source": [
    "ds_rand = ds.copy(deep=True)\n",
    "ds_rand.samples = np.random.randn(*ds_rand.shape)"
   ]
  },
  {
   "cell_type": "code",
   "execution_count": 17,
   "metadata": {},
   "outputs": [
    {
     "name": "stdout",
     "output_type": "stream",
     "text": [
      "----------.\n",
      "predictions\\targets   0     1\n",
      "            `------  ----  ---- P' N' FP FN  PPV  NPV  TPR  SPC  FDR  MCC  F1   AUC\n",
      "         0            48    42  90 70 42 32 0.53 0.54  0.6 0.47 0.47 0.08 0.56 0.48\n",
      "         1            32    38  70 90 32 42 0.54 0.53 0.47  0.6 0.46 0.08 0.51 0.59\n",
      "Per target:          ----  ----\n",
      "         P            80    80\n",
      "         N            80    80\n",
      "         TP           48    38\n",
      "         TN           38    48\n",
      "Summary \\ Means:     ----  ---- 80 80 37 37 0.54 0.54 0.54 0.54 0.46 0.08 0.54 0.54\n",
      "       CHI^2         3.4  p=0.33\n",
      "        ACC          0.54\n",
      "        ACC%        53.75\n",
      "     # of sets        16   ACC(i) = 0.58-0.0053*i p=0.44 r=-0.21 r^2=0.04\n",
      "\n"
     ]
    }
   ],
   "source": [
    "cv(ds_rand)\n",
    "print(cv.ca.stats)"
   ]
  }
 ],
 "metadata": {
  "kernelspec": {
   "display_name": "Python 2",
   "language": "python",
   "name": "python2"
  },
  "language_info": {
   "codemirror_mode": {
    "name": "ipython",
    "version": 2
   },
   "file_extension": ".py",
   "mimetype": "text/x-python",
   "name": "python",
   "nbconvert_exporter": "python",
   "pygments_lexer": "ipython2",
   "version": "2.7.14"
  }
 },
 "nbformat": 4,
 "nbformat_minor": 2
}
