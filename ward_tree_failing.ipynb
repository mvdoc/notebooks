{
 "metadata": {
  "name": "",
  "signature": "sha256:b093fe7870269c846fb132031385f739da0699b7d50ff86bcff4e1e88f95c0b1"
 },
 "nbformat": 3,
 "nbformat_minor": 0,
 "worksheets": [
  {
   "cells": [
    {
     "cell_type": "code",
     "collapsed": false,
     "input": [
      "import numpy as np\n",
      "from sklearn.cluster.hierarchical import ward_tree\n",
      "from sklearn.neighbors import kneighbors_graph\n",
      "import pylab as pl\n",
      "\n",
      "%pylab inline"
     ],
     "language": "python",
     "metadata": {},
     "outputs": [
      {
       "output_type": "stream",
       "stream": "stdout",
       "text": [
        "Populating the interactive namespace from numpy and matplotlib\n"
       ]
      }
     ],
     "prompt_number": 1
    },
    {
     "cell_type": "code",
     "collapsed": false,
     "input": [
      "dim = 10\n",
      "npoints = 100"
     ],
     "language": "python",
     "metadata": {},
     "outputs": [],
     "prompt_number": 2
    },
    {
     "cell_type": "code",
     "collapsed": false,
     "input": [
      "# very simple simulation: two blobs\n",
      "mean1 = -5 * np.ones(dim)\n",
      "cov1 = np.diag(np.ones(dim))\n",
      "mean2 = 5 * np.ones(dim)\n",
      "cov2 = cov1\n",
      "    \n",
      "X1 = np.random.multivariate_normal(mean1,cov1,npoints)\n",
      "X2 = np.random.multivariate_normal(mean2,cov2,npoints)\n",
      "    \n",
      "X = np.vstack((X1, X2))"
     ],
     "language": "python",
     "metadata": {},
     "outputs": [],
     "prompt_number": 3
    },
    {
     "cell_type": "code",
     "collapsed": false,
     "input": [
      "connectivity = kneighbors_graph(X, n_neighbors=5)\n",
      "pl.figure(figsize=(5, 5))\n",
      "pl.imshow(connectivity.todense(), interpolation='nearest');"
     ],
     "language": "python",
     "metadata": {},
     "outputs": [
      {
       "metadata": {},
       "output_type": "display_data",
       "png": "[encoded data removed]",
       "text": [
        "<matplotlib.figure.Figure at 0x10c37b250>"
       ]
      }
     ],
     "prompt_number": 4
    },
    {
     "cell_type": "code",
     "collapsed": false,
     "input": [
      "# ward_tree fails when the connectivity matrix is sparse\n",
      "out = ward_tree(X, connectivity)"
     ],
     "language": "python",
     "metadata": {},
     "outputs": [
      {
       "output_type": "stream",
       "stream": "stderr",
       "text": [
        "/usr/local/lib/python2.7/site-packages/sklearn/cluster/hierarchical.py:167: UserWarning: the number of connected components of the connectivity matrix is 2 > 1. Completing it to avoid stopping the tree early.\n",
        "  n_components=n_components)\n"
       ]
      }
     ],
     "prompt_number": 5
    },
    {
     "cell_type": "code",
     "collapsed": false,
     "input": [
      "connectivity_1 = kneighbors_graph(X, n_neighbors=npoints)\n",
      "pl.figure(figsize=(5,5))\n",
      "pl.imshow(connectivity_1.todense(), interpolation='nearest');"
     ],
     "language": "python",
     "metadata": {},
     "outputs": [
      {
       "metadata": {},
       "output_type": "display_data",
       "png": "[encoded data removed]",
       "text": [
        "<matplotlib.figure.Figure at 0x10c37b590>"
       ]
      }
     ],
     "prompt_number": 6
    },
    {
     "cell_type": "code",
     "collapsed": false,
     "input": [
      "# ward_tree doesn't fail now\n",
      "out = ward_tree(X, connectivity_1)\n",
      "print out[0][:10]"
     ],
     "language": "python",
     "metadata": {},
     "outputs": [
      {
       "output_type": "stream",
       "stream": "stdout",
       "text": [
        "[[195 169]\n",
        " [164 113]\n",
        " [ 91  24]\n",
        " [ 20  11]\n",
        " [158 133]\n",
        " [197 185]\n",
        " [120 116]\n",
        " [162 144]\n",
        " [193 125]\n",
        " [ 99  15]]\n"
       ]
      }
     ],
     "prompt_number": 7
    },
    {
     "cell_type": "code",
     "collapsed": false,
     "input": [
      "print out[0][:10]"
     ],
     "language": "python",
     "metadata": {},
     "outputs": [
      {
       "output_type": "stream",
       "stream": "stdout",
       "text": [
        "[[195 169]\n",
        " [164 113]\n",
        " [ 91  24]\n",
        " [ 20  11]\n",
        " [158 133]\n",
        " [197 185]\n",
        " [120 116]\n",
        " [162 144]\n",
        " [193 125]\n",
        " [ 99  15]]\n"
       ]
      }
     ],
     "prompt_number": 8
    },
    {
     "cell_type": "code",
     "collapsed": false,
     "input": [],
     "language": "python",
     "metadata": {},
     "outputs": []
    }
   ],
   "metadata": {}
  }
 ]
}